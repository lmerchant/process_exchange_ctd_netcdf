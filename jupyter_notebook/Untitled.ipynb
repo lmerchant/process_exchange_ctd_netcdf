{
 "cells": [
  {
   "cell_type": "code",
   "execution_count": 1,
   "metadata": {},
   "outputs": [],
   "source": [
    "import numpy as np\n",
    "import pandas as pd\n",
    "import xarray as xr"
   ]
  },
  {
   "cell_type": "code",
   "execution_count": 2,
   "metadata": {},
   "outputs": [],
   "source": [
    "from matplotlib import pyplot as plt\n",
    "plt.rcParams['figure.figsize'] = (8,5)"
   ]
  },
  {
   "cell_type": "code",
   "execution_count": 3,
   "metadata": {},
   "outputs": [
    {
     "data": {
      "text/plain": [
       "<xarray.Dataset>\n",
       "Dimensions:      (N_LEVEL: 36, N_PROF: 3, N_WAVELENGTH0: 3)\n",
       "Coordinates:\n",
       "    pressure     (N_PROF, N_LEVEL) float64 ...\n",
       "    latitude     (N_PROF) float64 ...\n",
       "    longitude    (N_PROF) float64 ...\n",
       "    date         (N_PROF) datetime64[ns] ...\n",
       "    wavelength0  (N_WAVELENGTH0) int64 ...\n",
       "Dimensions without coordinates: N_LEVEL, N_PROF, N_WAVELENGTH0\n",
       "Data variables:\n",
       "    var0         (N_PROF, N_LEVEL) float64 ...\n",
       "    var1         (N_PROF, N_LEVEL) float32 ...\n",
       "    var2         (N_PROF, N_LEVEL) float64 ...\n",
       "    var3         (N_PROF, N_LEVEL) float32 ...\n",
       "    var4         (N_PROF, N_LEVEL, N_WAVELENGTH0) float64 ...\n",
       "    var5         (N_PROF, N_LEVEL, N_WAVELENGTH0) float32 ..."
      ]
     },
     "execution_count": 3,
     "metadata": {},
     "output_type": "execute_result"
    }
   ],
   "source": [
    "ctd = xr.open_dataset('example_cchdo.nc')\n",
    "ctd"
   ]
  },
  {
   "cell_type": "code",
   "execution_count": null,
   "metadata": {},
   "outputs": [],
   "source": []
  },
  {
   "cell_type": "code",
   "execution_count": null,
   "metadata": {},
   "outputs": [],
   "source": []
  },
  {
   "cell_type": "code",
   "execution_count": null,
   "metadata": {},
   "outputs": [],
   "source": []
  },
  {
   "cell_type": "code",
   "execution_count": null,
   "metadata": {},
   "outputs": [],
   "source": []
  },
  {
   "cell_type": "code",
   "execution_count": null,
   "metadata": {},
   "outputs": [],
   "source": []
  },
  {
   "cell_type": "code",
   "execution_count": null,
   "metadata": {},
   "outputs": [],
   "source": []
  },
  {
   "cell_type": "code",
   "execution_count": null,
   "metadata": {},
   "outputs": [],
   "source": []
  },
  {
   "cell_type": "code",
   "execution_count": null,
   "metadata": {},
   "outputs": [],
   "source": []
  },
  {
   "cell_type": "code",
   "execution_count": null,
   "metadata": {},
   "outputs": [],
   "source": []
  }
 ],
 "metadata": {
  "kernelspec": {
   "display_name": "Python 3",
   "language": "python",
   "name": "python3"
  },
  "language_info": {
   "codemirror_mode": {
    "name": "ipython",
    "version": 3
   },
   "file_extension": ".py",
   "mimetype": "text/x-python",
   "name": "python",
   "nbconvert_exporter": "python",
   "pygments_lexer": "ipython3",
   "version": "3.6.6"
  }
 },
 "nbformat": 4,
 "nbformat_minor": 2
}

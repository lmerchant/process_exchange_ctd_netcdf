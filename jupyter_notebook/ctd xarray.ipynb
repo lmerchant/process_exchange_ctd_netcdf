{
 "cells": [
  {
   "cell_type": "code",
   "execution_count": 1,
   "metadata": {},
   "outputs": [],
   "source": [
    "import numpy as np\n",
    "import pandas as pd\n",
    "import xarray as xr"
   ]
  },
  {
   "cell_type": "code",
   "execution_count": 2,
   "metadata": {},
   "outputs": [],
   "source": [
    "from matplotlib import pyplot as plt\n",
    "plt.rcParams['figure.figsize'] = (8,5)"
   ]
  },
  {
   "cell_type": "markdown",
   "metadata": {},
   "source": [
    "# Import netcdf"
   ]
  },
  {
   "cell_type": "code",
   "execution_count": 3,
   "metadata": {},
   "outputs": [],
   "source": [
    "ctd = xr.open_dataset('74JC20150110.nc')"
   ]
  },
  {
   "cell_type": "code",
   "execution_count": 4,
   "metadata": {},
   "outputs": [
    {
     "data": {
      "text/plain": [
       "<xarray.Dataset>\n",
       "Dimensions:          (N_level: 2418, N_profile: 30)\n",
       "Coordinates:\n",
       "  * N_level          (N_level) int64 0 1 2 3 4 5 6 7 8 9 10 11 12 13 14 15 ...\n",
       "  * N_profile        (N_profile) int64 0 1 2 3 4 5 6 7 8 9 10 11 12 13 14 15 ...\n",
       "Data variables:\n",
       "    EXPOCODE         (N_profile, N_level) object ...\n",
       "    SECT_ID          (N_profile, N_level) object ...\n",
       "    STNNBR           (N_profile, N_level) object ...\n",
       "    CASTNO           (N_profile, N_level) object ...\n",
       "    DATE             (N_profile, N_level) object ...\n",
       "    TIME             (N_profile, N_level) object ...\n",
       "    LATITUDE         (N_profile, N_level) float64 ...\n",
       "    LONGITUDE        (N_profile, N_level) float64 ...\n",
       "    DEPTH            (N_profile, N_level) object ...\n",
       "    CTDPRS           (N_profile, N_level) float64 ...\n",
       "    CTDPRS_FLAG_W    (N_profile, N_level) float32 ...\n",
       "    CTDTMP           (N_profile, N_level) float64 ...\n",
       "    CTDTMP_FLAG_W    (N_profile, N_level) float32 ...\n",
       "    CTDSAL           (N_profile, N_level) float64 ...\n",
       "    CTDSAL_FLAG_W    (N_profile, N_level) float32 ...\n",
       "    CTDOXY           (N_profile, N_level) float64 ...\n",
       "    CTDOXY_FLAG_W    (N_profile, N_level) float32 ...\n",
       "    CTDXMISS         (N_profile, N_level) float64 ...\n",
       "    CTDXMISS_FLAG_W  (N_profile, N_level) float32 ...\n",
       "    CTDFLUOR         (N_profile, N_level) float64 ...\n",
       "    CTDFLUOR_FLAG_W  (N_profile, N_level) float32 ...\n",
       "Attributes:\n",
       "    title:    CTD data"
      ]
     },
     "execution_count": 4,
     "metadata": {},
     "output_type": "execute_result"
    }
   ],
   "source": [
    "ctd"
   ]
  },
  {
   "cell_type": "code",
   "execution_count": 23,
   "metadata": {},
   "outputs": [
    {
     "data": {
      "text/plain": [
       "<xarray.Dataset>\n",
       "Dimensions:          (N_level: 2418, N_profile: 30)\n",
       "Coordinates:\n",
       "  * N_level          (N_level) int64 0 1 2 3 4 5 6 7 8 9 10 11 12 13 14 15 ...\n",
       "  * N_profile        (N_profile) int64 0 1 2 3 4 5 6 7 8 9 10 11 12 13 14 15 ...\n",
       "Data variables:\n",
       "    EXPOCODE         (N_profile, N_level) object ...\n",
       "    SECT_ID          (N_profile, N_level) object ...\n",
       "    STNNBR           (N_profile, N_level) object ...\n",
       "    CASTNO           (N_profile, N_level) object ...\n",
       "    DATE             (N_profile, N_level) object ...\n",
       "    TIME             (N_profile, N_level) object ...\n",
       "    LATITUDE         (N_profile, N_level) float64 ...\n",
       "    LONGITUDE        (N_profile, N_level) float64 ...\n",
       "    DEPTH            (N_profile, N_level) object ...\n",
       "    CTDPRS           (N_profile, N_level) float64 ...\n",
       "    CTDPRS_FLAG_W    (N_profile, N_level) int16 ...\n",
       "    CTDTMP           (N_profile, N_level) float64 ...\n",
       "    CTDTMP_FLAG_W    (N_profile, N_level) int16 ...\n",
       "    CTDSAL           (N_profile, N_level) float64 ...\n",
       "    CTDSAL_FLAG_W    (N_profile, N_level) int16 ...\n",
       "    CTDOXY           (N_profile, N_level) float64 ...\n",
       "    CTDOXY_FLAG_W    (N_profile, N_level) int16 ...\n",
       "    CTDXMISS         (N_profile, N_level) float64 ...\n",
       "    CTDXMISS_FLAG_W  (N_profile, N_level) int16 ...\n",
       "    CTDFLUOR         (N_profile, N_level) float64 ...\n",
       "    CTDFLUOR_FLAG_W  (N_profile, N_level) int16 ...\n",
       "Attributes:\n",
       "    title:    CTD data"
      ]
     },
     "execution_count": 23,
     "metadata": {},
     "output_type": "execute_result"
    }
   ],
   "source": [
    "ctd2 = xr.open_dataset('74JC20150110.nc', decode_cf=False)\n",
    "ctd2"
   ]
  },
  {
   "cell_type": "code",
   "execution_count": 8,
   "metadata": {},
   "outputs": [
    {
     "data": {
      "text/plain": [
       "<xarray.DataArray 'CTDPRS_FLAG_W' (N_profile: 30, N_level: 2418)>\n",
       "array([[ 2.,  2.,  2., ..., nan, nan, nan],\n",
       "       [ 2.,  2.,  2., ..., nan, nan, nan],\n",
       "       [ 2.,  2.,  2., ..., nan, nan, nan],\n",
       "       ...,\n",
       "       [ 2.,  2.,  2., ..., nan, nan, nan],\n",
       "       [ 2.,  2.,  2., ..., nan, nan, nan],\n",
       "       [ 2.,  2.,  2., ..., nan, nan, nan]], dtype=float32)\n",
       "Coordinates:\n",
       "  * N_level    (N_level) int64 0 1 2 3 4 5 6 7 8 9 10 11 12 13 14 15 16 17 ...\n",
       "  * N_profile  (N_profile) int64 0 1 2 3 4 5 6 7 8 9 10 11 12 13 14 15 16 17 ..."
      ]
     },
     "execution_count": 8,
     "metadata": {},
     "output_type": "execute_result"
    }
   ],
   "source": [
    "pressure_flag = ctd['CTDPRS_FLAG_W']\n",
    "pressure_flag"
   ]
  },
  {
   "cell_type": "code",
   "execution_count": 17,
   "metadata": {},
   "outputs": [
    {
     "data": {
      "text/plain": [
       "{'zlib': False,\n",
       " 'shuffle': False,\n",
       " 'complevel': 0,\n",
       " 'fletcher32': False,\n",
       " 'contiguous': True,\n",
       " 'chunksizes': None,\n",
       " 'source': '/Users/merchant/Work/process_cchdo_data/exchange_ctd/data/output/netcdf/74JC20150110.nc',\n",
       " 'original_shape': (30, 2418),\n",
       " 'dtype': dtype('int16'),\n",
       " '_FillValue': -999}"
      ]
     },
     "execution_count": 17,
     "metadata": {},
     "output_type": "execute_result"
    }
   ],
   "source": [
    "pressure_flag.encoding"
   ]
  },
  {
   "cell_type": "code",
   "execution_count": 24,
   "metadata": {},
   "outputs": [
    {
     "data": {
      "text/plain": [
       "<xarray.DataArray 'CTDPRS_FLAG_W' (N_profile: 30, N_level: 2418)>\n",
       "array([[   2,    2,    2, ..., -999, -999, -999],\n",
       "       [   2,    2,    2, ..., -999, -999, -999],\n",
       "       [   2,    2,    2, ..., -999, -999, -999],\n",
       "       ...,\n",
       "       [   2,    2,    2, ..., -999, -999, -999],\n",
       "       [   2,    2,    2, ..., -999, -999, -999],\n",
       "       [   2,    2,    2, ..., -999, -999, -999]], dtype=int16)\n",
       "Coordinates:\n",
       "  * N_level    (N_level) int64 0 1 2 3 4 5 6 7 8 9 10 11 12 13 14 15 16 17 ...\n",
       "  * N_profile  (N_profile) int64 0 1 2 3 4 5 6 7 8 9 10 11 12 13 14 15 16 17 ...\n",
       "Attributes:\n",
       "    _FillValue:  -999"
      ]
     },
     "execution_count": 24,
     "metadata": {},
     "output_type": "execute_result"
    }
   ],
   "source": [
    "pressure_flag2 = ctd2['CTDPRS_FLAG_W']\n",
    "pressure_flag2"
   ]
  },
  {
   "cell_type": "code",
   "execution_count": 25,
   "metadata": {},
   "outputs": [
    {
     "data": {
      "text/plain": [
       "{'zlib': False,\n",
       " 'shuffle': False,\n",
       " 'complevel': 0,\n",
       " 'fletcher32': False,\n",
       " 'contiguous': True,\n",
       " 'chunksizes': None,\n",
       " 'source': '/Users/merchant/Work/process_cchdo_data/exchange_ctd/data/output/netcdf/74JC20150110.nc',\n",
       " 'original_shape': (30, 2418),\n",
       " 'dtype': dtype('int16')}"
      ]
     },
     "execution_count": 25,
     "metadata": {},
     "output_type": "execute_result"
    }
   ],
   "source": [
    "pressure_flag2.encoding"
   ]
  },
  {
   "cell_type": "code",
   "execution_count": 18,
   "metadata": {},
   "outputs": [
    {
     "data": {
      "text/plain": [
       "<xarray.DataArray 'STNNBR' (N_profile: 30, N_level: 2418)>\n",
       "array([['1', '', '', ..., '', '', ''],\n",
       "       ['2', '', '', ..., '', '', ''],\n",
       "       ['3', '', '', ..., '', '', ''],\n",
       "       ...,\n",
       "       ['28', '', '', ..., '', '', ''],\n",
       "       ['29', '', '', ..., '', '', ''],\n",
       "       ['30', '', '', ..., '', '', '']], dtype=object)\n",
       "Coordinates:\n",
       "  * N_level    (N_level) int64 0 1 2 3 4 5 6 7 8 9 10 11 12 13 14 15 16 17 ...\n",
       "  * N_profile  (N_profile) int64 0 1 2 3 4 5 6 7 8 9 10 11 12 13 14 15 16 17 ...\n",
       "Attributes:\n",
       "    units:      number\n",
       "    long_name:  Station Number"
      ]
     },
     "execution_count": 18,
     "metadata": {},
     "output_type": "execute_result"
    }
   ],
   "source": [
    "stnbr = ctd['STNNBR']\n",
    "stnbr"
   ]
  },
  {
   "cell_type": "code",
   "execution_count": 19,
   "metadata": {},
   "outputs": [
    {
     "data": {
      "text/plain": [
       "{'zlib': False,\n",
       " 'shuffle': False,\n",
       " 'complevel': 0,\n",
       " 'fletcher32': False,\n",
       " 'contiguous': True,\n",
       " 'chunksizes': None,\n",
       " 'source': '/Users/merchant/Work/process_cchdo_data/exchange_ctd/data/output/netcdf/74JC20150110.nc',\n",
       " 'original_shape': (30, 2418),\n",
       " 'dtype': str}"
      ]
     },
     "execution_count": 19,
     "metadata": {},
     "output_type": "execute_result"
    }
   ],
   "source": [
    "stnbr.encoding"
   ]
  },
  {
   "cell_type": "code",
   "execution_count": 20,
   "metadata": {},
   "outputs": [
    {
     "data": {
      "text/plain": [
       "<xarray.DataArray 'CTDPRS' (N_profile: 30, N_level: 2418)>\n",
       "array([[ 3.,  5.,  7., ..., nan, nan, nan],\n",
       "       [ 3.,  5.,  7., ..., nan, nan, nan],\n",
       "       [ 3.,  5.,  7., ..., nan, nan, nan],\n",
       "       ...,\n",
       "       [ 5.,  7.,  9., ..., nan, nan, nan],\n",
       "       [ 7.,  9., 11., ..., nan, nan, nan],\n",
       "       [ 7.,  9., 11., ..., nan, nan, nan]])\n",
       "Coordinates:\n",
       "  * N_level    (N_level) int64 0 1 2 3 4 5 6 7 8 9 10 11 12 13 14 15 16 17 ...\n",
       "  * N_profile  (N_profile) int64 0 1 2 3 4 5 6 7 8 9 10 11 12 13 14 15 16 17 ...\n",
       "Attributes:\n",
       "    units:    DBAR"
      ]
     },
     "execution_count": 20,
     "metadata": {},
     "output_type": "execute_result"
    }
   ],
   "source": [
    "pressure = ctd['CTDPRS']\n",
    "pressure"
   ]
  },
  {
   "cell_type": "code",
   "execution_count": 10,
   "metadata": {},
   "outputs": [
    {
     "data": {
      "text/plain": [
       "<xarray.DataArray 'CTDPRS' (N_level: 2418)>\n",
       "array([ 3.,  5.,  7., ..., nan, nan, nan])\n",
       "Coordinates:\n",
       "  * N_level    (N_level) int64 0 1 2 3 4 5 6 7 8 9 10 11 12 13 14 15 16 17 ...\n",
       "    N_profile  int64 4\n",
       "Attributes:\n",
       "    units:    DBAR"
      ]
     },
     "execution_count": 10,
     "metadata": {},
     "output_type": "execute_result"
    }
   ],
   "source": [
    "ctd_prof_4 = ctd['CTDPRS'].sel(N_profile = 4)\n",
    "ctd_prof_4"
   ]
  },
  {
   "cell_type": "code",
   "execution_count": 21,
   "metadata": {},
   "outputs": [
    {
     "data": {
      "text/plain": [
       "<xarray.DataArray 'EXPOCODE' (N_profile: 30, N_level: 2418)>\n",
       "array([['74JC20150110', '', '', ..., '', '', ''],\n",
       "       ['74JC20150110', '', '', ..., '', '', ''],\n",
       "       ['74JC20150110', '', '', ..., '', '', ''],\n",
       "       ...,\n",
       "       ['74JC20150110', '', '', ..., '', '', ''],\n",
       "       ['74JC20150110', '', '', ..., '', '', ''],\n",
       "       ['74JC20150110', '', '', ..., '', '', '']], dtype=object)\n",
       "Coordinates:\n",
       "  * N_level    (N_level) int64 0 1 2 3 4 5 6 7 8 9 10 11 12 13 14 15 16 17 ...\n",
       "  * N_profile  (N_profile) int64 0 1 2 3 4 5 6 7 8 9 10 11 12 13 14 15 16 17 ..."
      ]
     },
     "execution_count": 21,
     "metadata": {},
     "output_type": "execute_result"
    }
   ],
   "source": [
    "expocode = ctd['EXPOCODE']\n",
    "expocode"
   ]
  },
  {
   "cell_type": "markdown",
   "metadata": {},
   "source": [
    "# Plot first xarray set for expocode = 33HQ20150809"
   ]
  },
  {
   "cell_type": "code",
   "execution_count": 11,
   "metadata": {},
   "outputs": [
    {
     "data": {
      "text/plain": [
       "<matplotlib.collections.QuadMesh at 0x1150b1b70>"
      ]
     },
     "execution_count": 11,
     "metadata": {},
     "output_type": "execute_result"
    },
    {
     "data": {
      "image/png": "[encoded data removed]",
      "text/plain": [
       "<Figure size 432x288 with 2 Axes>"
      ]
     },
     "metadata": {},
     "output_type": "display_data"
    }
   ],
   "source": [
    "ctd['CTDTMP'].plot()"
   ]
  },
  {
   "cell_type": "code",
   "execution_count": 12,
   "metadata": {},
   "outputs": [
    {
     "data": {
      "text/plain": [
       "<matplotlib.collections.QuadMesh at 0x115821a58>"
      ]
     },
     "execution_count": 12,
     "metadata": {},
     "output_type": "execute_result"
    },
    {
     "data": {
      "image/png": "[encoded data removed]",
      "text/plain": [
       "<Figure size 432x288 with 2 Axes>"
      ]
     },
     "metadata": {},
     "output_type": "display_data"
    }
   ],
   "source": [
    "ctd['CTDSAL'].plot()"
   ]
  },
  {
   "cell_type": "code",
   "execution_count": 13,
   "metadata": {},
   "outputs": [
    {
     "data": {
      "text/plain": [
       "<matplotlib.collections.QuadMesh at 0x115d3bc88>"
      ]
     },
     "execution_count": 13,
     "metadata": {},
     "output_type": "execute_result"
    },
    {
     "data": {
      "image/png": "[encoded data removed]",
      "text/plain": [
       "<Figure size 432x288 with 2 Axes>"
      ]
     },
     "metadata": {},
     "output_type": "display_data"
    }
   ],
   "source": [
    "ctd['CTDOXY'].plot()"
   ]
  },
  {
   "cell_type": "code",
   "execution_count": 14,
   "metadata": {},
   "outputs": [
    {
     "data": {
      "text/plain": [
       "<matplotlib.collections.QuadMesh at 0x116253550>"
      ]
     },
     "execution_count": 14,
     "metadata": {},
     "output_type": "execute_result"
    },
    {
     "data": {
      "image/png": "[encoded data removed]",
      "text/plain": [
       "<Figure size 432x288 with 2 Axes>"
      ]
     },
     "metadata": {},
     "output_type": "display_data"
    }
   ],
   "source": [
    "ctd['CTDXMISS'].plot()"
   ]
  },
  {
   "cell_type": "code",
   "execution_count": 15,
   "metadata": {},
   "outputs": [
    {
     "data": {
      "text/plain": [
       "<matplotlib.collections.QuadMesh at 0x116764a20>"
      ]
     },
     "execution_count": 15,
     "metadata": {},
     "output_type": "execute_result"
    },
    {
     "data": {
      "image/png": "[encoded data removed]",
      "text/plain": [
       "<Figure size 432x288 with 2 Axes>"
      ]
     },
     "metadata": {},
     "output_type": "display_data"
    }
   ],
   "source": [
    "ctd['CTDFLUOR'].plot()"
   ]
  },
  {
   "cell_type": "code",
   "execution_count": 16,
   "metadata": {},
   "outputs": [
    {
     "ename": "NameError",
     "evalue": "name 'ctd1' is not defined",
     "output_type": "error",
     "traceback": [
      "\u001b[0;31m---------------------------------------------------------------------------\u001b[0m",
      "\u001b[0;31mNameError\u001b[0m                                 Traceback (most recent call last)",
      "\u001b[0;32m<ipython-input-16-2d3ef5ff6763>\u001b[0m in \u001b[0;36m<module>\u001b[0;34m()\u001b[0m\n\u001b[0;32m----> 1\u001b[0;31m \u001b[0mctd1\u001b[0m\u001b[0;34m[\u001b[0m\u001b[0;34m'CTDTMP'\u001b[0m\u001b[0;34m]\u001b[0m\u001b[0;34m.\u001b[0m\u001b[0mplot\u001b[0m\u001b[0;34m(\u001b[0m\u001b[0;34m)\u001b[0m\u001b[0;34m\u001b[0m\u001b[0m\n\u001b[0m\u001b[1;32m      2\u001b[0m \u001b[0mplt\u001b[0m\u001b[0;34m.\u001b[0m\u001b[0mxlim\u001b[0m\u001b[0;34m(\u001b[0m\u001b[0;36m0\u001b[0m\u001b[0;34m,\u001b[0m\u001b[0;36m1000\u001b[0m\u001b[0;34m)\u001b[0m\u001b[0;34m\u001b[0m\u001b[0m\n",
      "\u001b[0;31mNameError\u001b[0m: name 'ctd1' is not defined"
     ]
    }
   ],
   "source": [
    "ctd1['CTDTMP'].plot()\n",
    "plt.xlim(0,1000)"
   ]
  },
  {
   "cell_type": "code",
   "execution_count": null,
   "metadata": {},
   "outputs": [],
   "source": [
    "trans_set = ctd['CTDXMISS'].sel(N_profile = 4)\n",
    "trans_set\n",
    "trans_set.plot()"
   ]
  },
  {
   "cell_type": "code",
   "execution_count": null,
   "metadata": {},
   "outputs": [],
   "source": []
  },
  {
   "cell_type": "code",
   "execution_count": null,
   "metadata": {},
   "outputs": [],
   "source": []
  },
  {
   "cell_type": "code",
   "execution_count": null,
   "metadata": {},
   "outputs": [],
   "source": []
  },
  {
   "cell_type": "code",
   "execution_count": null,
   "metadata": {},
   "outputs": [],
   "source": []
  },
  {
   "cell_type": "code",
   "execution_count": null,
   "metadata": {},
   "outputs": [],
   "source": []
  },
  {
   "cell_type": "code",
   "execution_count": null,
   "metadata": {},
   "outputs": [],
   "source": []
  },
  {
   "cell_type": "code",
   "execution_count": null,
   "metadata": {},
   "outputs": [],
   "source": []
  },
  {
   "cell_type": "code",
   "execution_count": null,
   "metadata": {},
   "outputs": [],
   "source": []
  },
  {
   "cell_type": "code",
   "execution_count": null,
   "metadata": {},
   "outputs": [],
   "source": []
  },
  {
   "cell_type": "code",
   "execution_count": null,
   "metadata": {},
   "outputs": [],
   "source": []
  },
  {
   "cell_type": "code",
   "execution_count": null,
   "metadata": {},
   "outputs": [],
   "source": []
  },
  {
   "cell_type": "code",
   "execution_count": null,
   "metadata": {},
   "outputs": [],
   "source": []
  },
  {
   "cell_type": "code",
   "execution_count": null,
   "metadata": {},
   "outputs": [],
   "source": []
  },
  {
   "cell_type": "code",
   "execution_count": null,
   "metadata": {},
   "outputs": [],
   "source": []
  },
  {
   "cell_type": "code",
   "execution_count": null,
   "metadata": {
    "scrolled": true
   },
   "outputs": [],
   "source": []
  },
  {
   "cell_type": "code",
   "execution_count": null,
   "metadata": {},
   "outputs": [],
   "source": []
  },
  {
   "cell_type": "code",
   "execution_count": null,
   "metadata": {},
   "outputs": [],
   "source": []
  },
  {
   "cell_type": "code",
   "execution_count": null,
   "metadata": {},
   "outputs": [],
   "source": []
  },
  {
   "cell_type": "code",
   "execution_count": null,
   "metadata": {},
   "outputs": [],
   "source": []
  },
  {
   "cell_type": "code",
   "execution_count": null,
   "metadata": {},
   "outputs": [],
   "source": []
  },
  {
   "cell_type": "code",
   "execution_count": null,
   "metadata": {},
   "outputs": [],
   "source": []
  },
  {
   "cell_type": "code",
   "execution_count": null,
   "metadata": {},
   "outputs": [],
   "source": []
  },
  {
   "cell_type": "code",
   "execution_count": null,
   "metadata": {},
   "outputs": [],
   "source": []
  }
 ],
 "metadata": {
  "kernelspec": {
   "display_name": "Python 3",
   "language": "python",
   "name": "python3"
  },
  "language_info": {
   "codemirror_mode": {
    "name": "ipython",
    "version": 3
   },
   "file_extension": ".py",
   "mimetype": "text/x-python",
   "name": "python",
   "nbconvert_exporter": "python",
   "pygments_lexer": "ipython3",
   "version": "3.6.6"
  }
 },
 "nbformat": 4,
 "nbformat_minor": 2
}

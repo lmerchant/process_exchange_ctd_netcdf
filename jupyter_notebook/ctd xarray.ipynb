{
 "cells": [
  {
   "cell_type": "code",
   "execution_count": 49,
   "metadata": {},
   "outputs": [],
   "source": [
    "import numpy as np\n",
    "import pandas as pd\n",
    "import xarray as xr"
   ]
  },
  {
   "cell_type": "code",
   "execution_count": 50,
   "metadata": {},
   "outputs": [],
   "source": [
    "from matplotlib import pyplot as plt\n",
    "plt.rcParams['figure.figsize'] = (8,5)"
   ]
  },
  {
   "cell_type": "markdown",
   "metadata": {},
   "source": [
    "# Import netcdf"
   ]
  },
  {
   "cell_type": "code",
   "execution_count": 51,
   "metadata": {},
   "outputs": [],
   "source": [
    "ctd = xr.open_dataset('74JC20150110.nc')"
   ]
  },
  {
   "cell_type": "code",
   "execution_count": 52,
   "metadata": {},
   "outputs": [
    {
     "data": {
      "text/plain": [
       "<xarray.Dataset>\n",
       "Dimensions:          (N_level: 2418, N_profile: 30)\n",
       "Coordinates:\n",
       "    EXPOCODE         (N_profile) object ...\n",
       "    SECT_ID          (N_profile) object ...\n",
       "    STNNBR           (N_profile) object ...\n",
       "    CASTNO           (N_profile) object ...\n",
       "    DATE             (N_profile) object ...\n",
       "    TIME             (N_profile) object ...\n",
       "    LATITUDE         (N_profile) float64 ...\n",
       "    LONGITUDE        (N_profile) float64 ...\n",
       "    DEPTH            (N_profile) float64 ...\n",
       "    DATETIME         (N_profile) datetime64[ns] ...\n",
       "Dimensions without coordinates: N_level, N_profile\n",
       "Data variables:\n",
       "    CTDPRS           (N_profile, N_level) float64 ...\n",
       "    CTDPRS_FLAG_W    (N_profile, N_level) float32 ...\n",
       "    CTDTMP           (N_profile, N_level) float64 ...\n",
       "    CTDTMP_FLAG_W    (N_profile, N_level) float32 ...\n",
       "    CTDSAL           (N_profile, N_level) float64 ...\n",
       "    CTDSAL_FLAG_W    (N_profile, N_level) float32 ...\n",
       "    CTDOXY           (N_profile, N_level) float64 ...\n",
       "    CTDOXY_FLAG_W    (N_profile, N_level) float32 ...\n",
       "    CTDXMISS         (N_profile, N_level) float64 ...\n",
       "    CTDXMISS_FLAG_W  (N_profile, N_level) float32 ...\n",
       "    CTDFLUOR         (N_profile, N_level) float64 ...\n",
       "    CTDFLUOR_FLAG_W  (N_profile, N_level) float32 ...\n",
       "Attributes:\n",
       "    contributer_name:  \"Firing, Yvonne\",\"King, Brian A.\"\n",
       "    contributer_role:  Chief Scientist\n",
       "    creator_name:      CCHDO"
      ]
     },
     "execution_count": 52,
     "metadata": {},
     "output_type": "execute_result"
    }
   ],
   "source": [
    "ctd"
   ]
  },
  {
   "cell_type": "code",
   "execution_count": 53,
   "metadata": {},
   "outputs": [
    {
     "data": {
      "text/plain": [
       "<xarray.Dataset>\n",
       "Dimensions:          (N_level: 2418, N_profile: 30)\n",
       "Dimensions without coordinates: N_level, N_profile\n",
       "Data variables:\n",
       "    CTDPRS           (N_profile, N_level) float64 ...\n",
       "    CTDPRS_FLAG_W    (N_profile, N_level) int8 ...\n",
       "    CTDTMP           (N_profile, N_level) float64 ...\n",
       "    CTDTMP_FLAG_W    (N_profile, N_level) int8 ...\n",
       "    CTDSAL           (N_profile, N_level) float64 ...\n",
       "    CTDSAL_FLAG_W    (N_profile, N_level) int8 ...\n",
       "    CTDOXY           (N_profile, N_level) float64 ...\n",
       "    CTDOXY_FLAG_W    (N_profile, N_level) int8 ...\n",
       "    CTDXMISS         (N_profile, N_level) float64 ...\n",
       "    CTDXMISS_FLAG_W  (N_profile, N_level) int8 ...\n",
       "    CTDFLUOR         (N_profile, N_level) float64 ...\n",
       "    CTDFLUOR_FLAG_W  (N_profile, N_level) int8 ...\n",
       "    EXPOCODE         (N_profile) object ...\n",
       "    SECT_ID          (N_profile) object ...\n",
       "    STNNBR           (N_profile) object ...\n",
       "    CASTNO           (N_profile) object ...\n",
       "    DATE             (N_profile) object ...\n",
       "    TIME             (N_profile) object ...\n",
       "    LATITUDE         (N_profile) float64 ...\n",
       "    LONGITUDE        (N_profile) float64 ...\n",
       "    DEPTH            (N_profile) float64 ...\n",
       "    DATETIME         (N_profile) int64 ...\n",
       "Attributes:\n",
       "    contributer_name:  \"Firing, Yvonne\",\"King, Brian A.\"\n",
       "    contributer_role:  Chief Scientist\n",
       "    creator_name:      CCHDO"
      ]
     },
     "execution_count": 53,
     "metadata": {},
     "output_type": "execute_result"
    }
   ],
   "source": [
    "ctd2 = xr.open_dataset('74JC20150110.nc', decode_cf=False)\n",
    "ctd2"
   ]
  },
  {
   "cell_type": "code",
   "execution_count": 54,
   "metadata": {},
   "outputs": [
    {
     "data": {
      "text/plain": [
       "<xarray.DataArray 'CTDPRS_FLAG_W' (N_profile: 30, N_level: 2418)>\n",
       "array([[ 2.,  2.,  2., ..., nan, nan, nan],\n",
       "       [ 2.,  2.,  2., ..., nan, nan, nan],\n",
       "       [ 2.,  2.,  2., ..., nan, nan, nan],\n",
       "       ...,\n",
       "       [ 2.,  2.,  2., ..., nan, nan, nan],\n",
       "       [ 2.,  2.,  2., ..., nan, nan, nan],\n",
       "       [ 2.,  2.,  2., ..., nan, nan, nan]], dtype=float32)\n",
       "Coordinates:\n",
       "    EXPOCODE   (N_profile) object ...\n",
       "    SECT_ID    (N_profile) object ...\n",
       "    STNNBR     (N_profile) object ...\n",
       "    CASTNO     (N_profile) object ...\n",
       "    DATE       (N_profile) object ...\n",
       "    TIME       (N_profile) object ...\n",
       "    LATITUDE   (N_profile) float64 ...\n",
       "    LONGITUDE  (N_profile) float64 ...\n",
       "    DEPTH      (N_profile) float64 ...\n",
       "    DATETIME   (N_profile) datetime64[ns] ...\n",
       "Dimensions without coordinates: N_profile, N_level"
      ]
     },
     "execution_count": 54,
     "metadata": {},
     "output_type": "execute_result"
    }
   ],
   "source": [
    "pressure_flag = ctd['CTDPRS_FLAG_W']\n",
    "pressure_flag"
   ]
  },
  {
   "cell_type": "code",
   "execution_count": 55,
   "metadata": {},
   "outputs": [
    {
     "data": {
      "text/plain": [
       "{'zlib': False,\n",
       " 'shuffle': False,\n",
       " 'complevel': 0,\n",
       " 'fletcher32': False,\n",
       " 'contiguous': True,\n",
       " 'chunksizes': None,\n",
       " 'source': '/Users/merchant/Work/process_cchdo_data/exchange_ctd/scripts/process_exchange_ctd_netcdf/jupyter_notebook/74JC20150110.nc',\n",
       " 'original_shape': (30, 2418),\n",
       " 'dtype': dtype('int8'),\n",
       " '_FillValue': 9,\n",
       " 'coordinates': 'CASTNO EXPOCODE LATITUDE DATETIME STNNBR LONGITUDE TIME SECT_ID DATE DEPTH'}"
      ]
     },
     "execution_count": 55,
     "metadata": {},
     "output_type": "execute_result"
    }
   ],
   "source": [
    "pressure_flag.encoding"
   ]
  },
  {
   "cell_type": "code",
   "execution_count": 56,
   "metadata": {},
   "outputs": [
    {
     "data": {
      "text/plain": [
       "<xarray.DataArray 'CTDPRS_FLAG_W' (N_profile: 30, N_level: 2418)>\n",
       "array([[2, 2, 2, ..., 9, 9, 9],\n",
       "       [2, 2, 2, ..., 9, 9, 9],\n",
       "       [2, 2, 2, ..., 9, 9, 9],\n",
       "       ...,\n",
       "       [2, 2, 2, ..., 9, 9, 9],\n",
       "       [2, 2, 2, ..., 9, 9, 9],\n",
       "       [2, 2, 2, ..., 9, 9, 9]], dtype=int8)\n",
       "Dimensions without coordinates: N_profile, N_level\n",
       "Attributes:\n",
       "    _FillValue:   9\n",
       "    coordinates:  CASTNO EXPOCODE LATITUDE DATETIME STNNBR LONGITUDE TIME SEC..."
      ]
     },
     "execution_count": 56,
     "metadata": {},
     "output_type": "execute_result"
    }
   ],
   "source": [
    "pressure_flag2 = ctd2['CTDPRS_FLAG_W']\n",
    "pressure_flag2"
   ]
  },
  {
   "cell_type": "code",
   "execution_count": 57,
   "metadata": {},
   "outputs": [
    {
     "data": {
      "text/plain": [
       "{'zlib': False,\n",
       " 'shuffle': False,\n",
       " 'complevel': 0,\n",
       " 'fletcher32': False,\n",
       " 'contiguous': True,\n",
       " 'chunksizes': None,\n",
       " 'source': '/Users/merchant/Work/process_cchdo_data/exchange_ctd/scripts/process_exchange_ctd_netcdf/jupyter_notebook/74JC20150110.nc',\n",
       " 'original_shape': (30, 2418),\n",
       " 'dtype': dtype('int8')}"
      ]
     },
     "execution_count": 57,
     "metadata": {},
     "output_type": "execute_result"
    }
   ],
   "source": [
    "pressure_flag2.encoding"
   ]
  },
  {
   "cell_type": "code",
   "execution_count": 58,
   "metadata": {},
   "outputs": [
    {
     "data": {
      "text/plain": [
       "<xarray.DataArray 'STNNBR' (N_profile: 30)>\n",
       "array(['1', '2', '3', '4', '5', '6', '7', '8', '9', '10', '11', '12', '13',\n",
       "       '14', '15', '16', '17', '18', '19', '20', '21', '22', '23', '24', '25',\n",
       "       '26', '27', '28', '29', '30'], dtype=object)\n",
       "Coordinates:\n",
       "    EXPOCODE   (N_profile) object ...\n",
       "    SECT_ID    (N_profile) object ...\n",
       "    STNNBR     (N_profile) object '1' '2' '3' '4' '5' '6' '7' '8' '9' '10' ...\n",
       "    CASTNO     (N_profile) object ...\n",
       "    DATE       (N_profile) object ...\n",
       "    TIME       (N_profile) object ...\n",
       "    LATITUDE   (N_profile) float64 ...\n",
       "    LONGITUDE  (N_profile) float64 ...\n",
       "    DEPTH      (N_profile) float64 ...\n",
       "    DATETIME   (N_profile) datetime64[ns] ...\n",
       "Dimensions without coordinates: N_profile\n",
       "Attributes:\n",
       "    units:      number\n",
       "    long_name:  Station Number"
      ]
     },
     "execution_count": 58,
     "metadata": {},
     "output_type": "execute_result"
    }
   ],
   "source": [
    "stnbr = ctd['STNNBR']\n",
    "stnbr"
   ]
  },
  {
   "cell_type": "code",
   "execution_count": 59,
   "metadata": {},
   "outputs": [
    {
     "data": {
      "text/plain": [
       "{'zlib': False,\n",
       " 'shuffle': False,\n",
       " 'complevel': 0,\n",
       " 'fletcher32': False,\n",
       " 'contiguous': True,\n",
       " 'chunksizes': None,\n",
       " 'source': '/Users/merchant/Work/process_cchdo_data/exchange_ctd/scripts/process_exchange_ctd_netcdf/jupyter_notebook/74JC20150110.nc',\n",
       " 'original_shape': (30,),\n",
       " 'dtype': str}"
      ]
     },
     "execution_count": 59,
     "metadata": {},
     "output_type": "execute_result"
    }
   ],
   "source": [
    "stnbr.encoding"
   ]
  },
  {
   "cell_type": "code",
   "execution_count": 60,
   "metadata": {},
   "outputs": [
    {
     "data": {
      "text/plain": [
       "<xarray.DataArray 'CTDPRS' (N_profile: 30, N_level: 2418)>\n",
       "array([[ 3.,  5.,  7., ..., nan, nan, nan],\n",
       "       [ 3.,  5.,  7., ..., nan, nan, nan],\n",
       "       [ 3.,  5.,  7., ..., nan, nan, nan],\n",
       "       ...,\n",
       "       [ 5.,  7.,  9., ..., nan, nan, nan],\n",
       "       [ 7.,  9., 11., ..., nan, nan, nan],\n",
       "       [ 7.,  9., 11., ..., nan, nan, nan]])\n",
       "Coordinates:\n",
       "    EXPOCODE   (N_profile) object ...\n",
       "    SECT_ID    (N_profile) object ...\n",
       "    STNNBR     (N_profile) object '1' '2' '3' '4' '5' '6' '7' '8' '9' '10' ...\n",
       "    CASTNO     (N_profile) object ...\n",
       "    DATE       (N_profile) object ...\n",
       "    TIME       (N_profile) object ...\n",
       "    LATITUDE   (N_profile) float64 ...\n",
       "    LONGITUDE  (N_profile) float64 ...\n",
       "    DEPTH      (N_profile) float64 ...\n",
       "    DATETIME   (N_profile) datetime64[ns] ...\n",
       "Dimensions without coordinates: N_profile, N_level\n",
       "Attributes:\n",
       "    units:    DBAR"
      ]
     },
     "execution_count": 60,
     "metadata": {},
     "output_type": "execute_result"
    }
   ],
   "source": [
    "pressure = ctd['CTDPRS']\n",
    "pressure"
   ]
  },
  {
   "cell_type": "code",
   "execution_count": 61,
   "metadata": {},
   "outputs": [
    {
     "data": {
      "text/plain": [
       "<xarray.DataArray 'CTDPRS' (N_level: 2418)>\n",
       "array([ 3.,  5.,  7., ..., nan, nan, nan])\n",
       "Coordinates:\n",
       "    EXPOCODE   object ...\n",
       "    SECT_ID    object ...\n",
       "    STNNBR     <U1 '5'\n",
       "    CASTNO     object ...\n",
       "    DATE       object ...\n",
       "    TIME       object ...\n",
       "    LATITUDE   float64 ...\n",
       "    LONGITUDE  float64 ...\n",
       "    DEPTH      float64 ...\n",
       "    DATETIME   datetime64[ns] ...\n",
       "Dimensions without coordinates: N_level\n",
       "Attributes:\n",
       "    units:    DBAR"
      ]
     },
     "execution_count": 61,
     "metadata": {},
     "output_type": "execute_result"
    }
   ],
   "source": [
    "ctd_prof_4 = ctd['CTDPRS'].sel(N_profile = 4)\n",
    "ctd_prof_4"
   ]
  },
  {
   "cell_type": "code",
   "execution_count": 62,
   "metadata": {},
   "outputs": [
    {
     "data": {
      "text/plain": [
       "<xarray.DataArray 'EXPOCODE' (N_profile: 30)>\n",
       "array(['74JC20150110', '74JC20150110', '74JC20150110', '74JC20150110',\n",
       "       '74JC20150110', '74JC20150110', '74JC20150110', '74JC20150110',\n",
       "       '74JC20150110', '74JC20150110', '74JC20150110', '74JC20150110',\n",
       "       '74JC20150110', '74JC20150110', '74JC20150110', '74JC20150110',\n",
       "       '74JC20150110', '74JC20150110', '74JC20150110', '74JC20150110',\n",
       "       '74JC20150110', '74JC20150110', '74JC20150110', '74JC20150110',\n",
       "       '74JC20150110', '74JC20150110', '74JC20150110', '74JC20150110',\n",
       "       '74JC20150110', '74JC20150110'], dtype=object)\n",
       "Coordinates:\n",
       "    EXPOCODE   (N_profile) object '74JC20150110' '74JC20150110' ...\n",
       "    SECT_ID    (N_profile) object ...\n",
       "    STNNBR     (N_profile) object '1' '2' '3' '4' '5' '6' '7' '8' '9' '10' ...\n",
       "    CASTNO     (N_profile) object ...\n",
       "    DATE       (N_profile) object ...\n",
       "    TIME       (N_profile) object ...\n",
       "    LATITUDE   (N_profile) float64 ...\n",
       "    LONGITUDE  (N_profile) float64 ...\n",
       "    DEPTH      (N_profile) float64 ...\n",
       "    DATETIME   (N_profile) datetime64[ns] ...\n",
       "Dimensions without coordinates: N_profile\n",
       "Attributes:\n",
       "    long_name:  Expocode"
      ]
     },
     "execution_count": 62,
     "metadata": {},
     "output_type": "execute_result"
    }
   ],
   "source": [
    "expocode = ctd['EXPOCODE']\n",
    "expocode"
   ]
  },
  {
   "cell_type": "code",
   "execution_count": 63,
   "metadata": {},
   "outputs": [
    {
     "data": {
      "text/plain": [
       "<xarray.DataArray 'LATITUDE' (N_profile: 30)>\n",
       "array([-61.05073, -60.981  , -60.84999, -60.83309, -60.80038, -60.66733,\n",
       "       -60.3322 , -60.00063, -59.66621, -59.33228, -59.00116, -58.68335,\n",
       "       -58.36496, -58.05   , -57.73333, -57.41778, -57.09924, -56.78214,\n",
       "       -56.46863, -56.1688 , -55.83152, -55.51735, -55.21275, -55.1698 ,\n",
       "       -55.12046, -55.06996, -55.00685, -54.97763, -54.90397, -54.73745])\n",
       "Coordinates:\n",
       "    EXPOCODE   (N_profile) object '74JC20150110' '74JC20150110' ...\n",
       "    SECT_ID    (N_profile) object ...\n",
       "    STNNBR     (N_profile) object '1' '2' '3' '4' '5' '6' '7' '8' '9' '10' ...\n",
       "    CASTNO     (N_profile) object ...\n",
       "    DATE       (N_profile) object ...\n",
       "    TIME       (N_profile) object ...\n",
       "    LATITUDE   (N_profile) float64 -61.05 -60.98 -60.85 -60.83 -60.8 -60.67 ...\n",
       "    LONGITUDE  (N_profile) float64 ...\n",
       "    DEPTH      (N_profile) float64 ...\n",
       "    DATETIME   (N_profile) datetime64[ns] ...\n",
       "Dimensions without coordinates: N_profile\n",
       "Attributes:\n",
       "    units:          degrees_north\n",
       "    standard_name:  latitude\n",
       "    long_name:      Latitude\n",
       "    axis:           Y"
      ]
     },
     "execution_count": 63,
     "metadata": {},
     "output_type": "execute_result"
    }
   ],
   "source": [
    "latitude = ctd['LATITUDE']\n",
    "latitude"
   ]
  },
  {
   "cell_type": "markdown",
   "metadata": {},
   "source": [
    "# Plot first xarray set for expocode = 33HQ20150809"
   ]
  },
  {
   "cell_type": "code",
   "execution_count": 64,
   "metadata": {},
   "outputs": [
    {
     "data": {
      "text/plain": [
       "<matplotlib.collections.QuadMesh at 0x120b09cf8>"
      ]
     },
     "execution_count": 64,
     "metadata": {},
     "output_type": "execute_result"
    },
    {
     "data": {
      "image/png": "[encoded data removed]",
      "text/plain": [
       "<Figure size 576x360 with 2 Axes>"
      ]
     },
     "metadata": {},
     "output_type": "display_data"
    }
   ],
   "source": [
    "ctd['CTDTMP'].plot()"
   ]
  },
  {
   "cell_type": "code",
   "execution_count": 65,
   "metadata": {},
   "outputs": [
    {
     "data": {
      "text/plain": [
       "<matplotlib.collections.QuadMesh at 0x12092de48>"
      ]
     },
     "execution_count": 65,
     "metadata": {},
     "output_type": "execute_result"
    },
    {
     "data": {
      "image/png": "[encoded data removed]",
      "text/plain": [
       "<Figure size 576x360 with 2 Axes>"
      ]
     },
     "metadata": {},
     "output_type": "display_data"
    }
   ],
   "source": [
    "ctd['CTDSAL'].plot()"
   ]
  },
  {
   "cell_type": "code",
   "execution_count": 66,
   "metadata": {},
   "outputs": [
    {
     "data": {
      "text/plain": [
       "<matplotlib.collections.QuadMesh at 0x120bc7c50>"
      ]
     },
     "execution_count": 66,
     "metadata": {},
     "output_type": "execute_result"
    },
    {
     "data": {
      "image/png": "[encoded data removed]",
      "text/plain": [
       "<Figure size 576x360 with 2 Axes>"
      ]
     },
     "metadata": {},
     "output_type": "display_data"
    }
   ],
   "source": [
    "ctd['CTDOXY'].plot()"
   ]
  },
  {
   "cell_type": "code",
   "execution_count": 67,
   "metadata": {},
   "outputs": [
    {
     "data": {
      "text/plain": [
       "<matplotlib.collections.QuadMesh at 0x12199f550>"
      ]
     },
     "execution_count": 67,
     "metadata": {},
     "output_type": "execute_result"
    },
    {
     "data": {
      "image/png": "[encoded data removed]",
      "text/plain": [
       "<Figure size 576x360 with 2 Axes>"
      ]
     },
     "metadata": {},
     "output_type": "display_data"
    }
   ],
   "source": [
    "ctd['CTDXMISS'].plot()"
   ]
  },
  {
   "cell_type": "code",
   "execution_count": 68,
   "metadata": {},
   "outputs": [
    {
     "data": {
      "text/plain": [
       "<matplotlib.collections.QuadMesh at 0x121eb4908>"
      ]
     },
     "execution_count": 68,
     "metadata": {},
     "output_type": "execute_result"
    },
    {
     "data": {
      "image/png": "[encoded data removed]",
      "text/plain": [
       "<Figure size 576x360 with 2 Axes>"
      ]
     },
     "metadata": {},
     "output_type": "display_data"
    }
   ],
   "source": [
    "ctd['CTDFLUOR'].plot()"
   ]
  },
  {
   "cell_type": "markdown",
   "metadata": {},
   "source": [
    "## Add attributes to variables"
   ]
  },
  {
   "cell_type": "code",
   "execution_count": 69,
   "metadata": {},
   "outputs": [
    {
     "data": {
      "text/plain": [
       "<xarray.Dataset>\n",
       "Dimensions:          (N_level: 2418, N_profile: 30)\n",
       "Coordinates:\n",
       "    EXPOCODE         (N_profile) object '74JC20150110' '74JC20150110' ...\n",
       "    SECT_ID          (N_profile) object ...\n",
       "    STNNBR           (N_profile) object '1' '2' '3' '4' '5' '6' '7' '8' '9' ...\n",
       "    CASTNO           (N_profile) object ...\n",
       "    DATE             (N_profile) object ...\n",
       "    TIME             (N_profile) object ...\n",
       "    LATITUDE         (N_profile) float64 -61.05 -60.98 -60.85 -60.83 -60.8 ...\n",
       "    LONGITUDE        (N_profile) float64 ...\n",
       "    DEPTH            (N_profile) float64 ...\n",
       "    DATETIME         (N_profile) datetime64[ns] ...\n",
       "Dimensions without coordinates: N_level, N_profile\n",
       "Data variables:\n",
       "    CTDPRS           (N_profile, N_level) float64 3.0 5.0 7.0 9.0 11.0 13.0 ...\n",
       "    CTDPRS_FLAG_W    (N_profile, N_level) float32 2.0 2.0 2.0 2.0 2.0 2.0 ...\n",
       "    CTDTMP           (N_profile, N_level) float64 ...\n",
       "    CTDTMP_FLAG_W    (N_profile, N_level) float32 ...\n",
       "    CTDSAL           (N_profile, N_level) float64 ...\n",
       "    CTDSAL_FLAG_W    (N_profile, N_level) float32 ...\n",
       "    CTDOXY           (N_profile, N_level) float64 ...\n",
       "    CTDOXY_FLAG_W    (N_profile, N_level) float32 ...\n",
       "    CTDXMISS         (N_profile, N_level) float64 ...\n",
       "    CTDXMISS_FLAG_W  (N_profile, N_level) float32 ...\n",
       "    CTDFLUOR         (N_profile, N_level) float64 ...\n",
       "    CTDFLUOR_FLAG_W  (N_profile, N_level) float32 ...\n",
       "Attributes:\n",
       "    contributer_name:  \"Firing, Yvonne\",\"King, Brian A.\"\n",
       "    contributer_role:  Chief Scientist\n",
       "    creator_name:      CCHDO"
      ]
     },
     "execution_count": 69,
     "metadata": {},
     "output_type": "execute_result"
    }
   ],
   "source": [
    "ctd['CTDPRS'].attrs = {'creator_name': 'Sample Name'}\n",
    "ctd"
   ]
  },
  {
   "cell_type": "markdown",
   "metadata": {},
   "source": [
    "# Save to new netcdf file with added attributes"
   ]
  },
  {
   "cell_type": "code",
   "execution_count": 70,
   "metadata": {},
   "outputs": [],
   "source": [
    "ctd.to_netcdf('new_file.nc')"
   ]
  },
  {
   "cell_type": "code",
   "execution_count": null,
   "metadata": {},
   "outputs": [],
   "source": []
  },
  {
   "cell_type": "code",
   "execution_count": null,
   "metadata": {},
   "outputs": [],
   "source": []
  },
  {
   "cell_type": "code",
   "execution_count": null,
   "metadata": {},
   "outputs": [],
   "source": []
  },
  {
   "cell_type": "code",
   "execution_count": null,
   "metadata": {},
   "outputs": [],
   "source": []
  },
  {
   "cell_type": "code",
   "execution_count": null,
   "metadata": {},
   "outputs": [],
   "source": []
  },
  {
   "cell_type": "code",
   "execution_count": null,
   "metadata": {},
   "outputs": [],
   "source": []
  },
  {
   "cell_type": "code",
   "execution_count": null,
   "metadata": {},
   "outputs": [],
   "source": []
  },
  {
   "cell_type": "code",
   "execution_count": null,
   "metadata": {},
   "outputs": [],
   "source": []
  },
  {
   "cell_type": "code",
   "execution_count": null,
   "metadata": {},
   "outputs": [],
   "source": []
  },
  {
   "cell_type": "code",
   "execution_count": null,
   "metadata": {},
   "outputs": [],
   "source": []
  },
  {
   "cell_type": "code",
   "execution_count": null,
   "metadata": {},
   "outputs": [],
   "source": []
  },
  {
   "cell_type": "code",
   "execution_count": null,
   "metadata": {
    "scrolled": true
   },
   "outputs": [],
   "source": []
  },
  {
   "cell_type": "code",
   "execution_count": null,
   "metadata": {},
   "outputs": [],
   "source": []
  },
  {
   "cell_type": "code",
   "execution_count": null,
   "metadata": {},
   "outputs": [],
   "source": []
  },
  {
   "cell_type": "code",
   "execution_count": null,
   "metadata": {},
   "outputs": [],
   "source": []
  },
  {
   "cell_type": "code",
   "execution_count": null,
   "metadata": {},
   "outputs": [],
   "source": []
  },
  {
   "cell_type": "code",
   "execution_count": null,
   "metadata": {},
   "outputs": [],
   "source": []
  },
  {
   "cell_type": "code",
   "execution_count": null,
   "metadata": {},
   "outputs": [],
   "source": []
  },
  {
   "cell_type": "code",
   "execution_count": null,
   "metadata": {},
   "outputs": [],
   "source": []
  },
  {
   "cell_type": "code",
   "execution_count": null,
   "metadata": {},
   "outputs": [],
   "source": []
  }
 ],
 "metadata": {
  "kernelspec": {
   "display_name": "Python 3",
   "language": "python",
   "name": "python3"
  },
  "language_info": {
   "codemirror_mode": {
    "name": "ipython",
    "version": 3
   },
   "file_extension": ".py",
   "mimetype": "text/x-python",
   "name": "python",
   "nbconvert_exporter": "python",
   "pygments_lexer": "ipython3",
   "version": "3.6.6"
  }
 },
 "nbformat": 4,
 "nbformat_minor": 2
}

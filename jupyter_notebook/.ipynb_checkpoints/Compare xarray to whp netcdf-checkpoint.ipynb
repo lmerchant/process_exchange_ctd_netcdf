{
 "cells": [
  {
   "cell_type": "code",
   "execution_count": 1,
   "metadata": {},
   "outputs": [],
   "source": [
    "import numpy as np\n",
    "import pandas as pd\n",
    "import xarray as xr\n",
    "import netCDF4"
   ]
  },
  {
   "cell_type": "code",
   "execution_count": 2,
   "metadata": {},
   "outputs": [],
   "source": [
    "from matplotlib import pyplot as plt\n",
    "plt.rcParams['figure.figsize'] = (8,5)"
   ]
  },
  {
   "cell_type": "markdown",
   "metadata": {},
   "source": [
    "# Compare our NetCDF format to WHP NetCDF Format\n",
    "# For Expocode 74JC20150110"
   ]
  },
  {
   "cell_type": "markdown",
   "metadata": {},
   "source": [
    "## Read in our file as an xarray Dataset"
   ]
  },
  {
   "cell_type": "code",
   "execution_count": 3,
   "metadata": {},
   "outputs": [
    {
     "data": {
      "text/plain": [
       "<xarray.Dataset>\n",
       "Dimensions:          (N_level: 2418, N_profile: 30)\n",
       "Coordinates:\n",
       "  * N_profile        (N_profile) int64 0 1 2 3 4 5 6 7 8 9 10 11 12 13 14 15 ...\n",
       "  * N_level          (N_level) int64 0 1 2 3 4 5 6 7 8 9 10 11 12 13 14 15 ...\n",
       "Data variables:\n",
       "    EXPOCODE         (N_profile) object ...\n",
       "    SECT_ID          (N_profile) object ...\n",
       "    STNNBR           (N_profile) object ...\n",
       "    CASTNO           (N_profile) object ...\n",
       "    DATE             (N_profile) object ...\n",
       "    TIME             (N_profile) object ...\n",
       "    LATITUDE         (N_profile) float64 ...\n",
       "    LONGITUDE        (N_profile) float64 ...\n",
       "    DEPTH            (N_profile) float64 ...\n",
       "    DATETIME         (N_profile) datetime64[ns] ...\n",
       "    CTDPRS           (N_profile, N_level) float64 ...\n",
       "    CTDPRS_FLAG_W    (N_profile, N_level) float32 ...\n",
       "    CTDTMP           (N_profile, N_level) float64 ...\n",
       "    CTDTMP_FLAG_W    (N_profile, N_level) float32 ...\n",
       "    CTDSAL           (N_profile, N_level) float64 ...\n",
       "    CTDSAL_FLAG_W    (N_profile, N_level) float32 ...\n",
       "    CTDOXY           (N_profile, N_level) float64 ...\n",
       "    CTDOXY_FLAG_W    (N_profile, N_level) float32 ...\n",
       "    CTDXMISS         (N_profile, N_level) float64 ...\n",
       "    CTDXMISS_FLAG_W  (N_profile, N_level) float32 ...\n",
       "    CTDFLUOR         (N_profile, N_level) float64 ...\n",
       "    CTDFLUOR_FLAG_W  (N_profile, N_level) float32 ...\n",
       "Attributes:\n",
       "    title:    CTD data"
      ]
     },
     "execution_count": 3,
     "metadata": {},
     "output_type": "execute_result"
    }
   ],
   "source": [
    "xr_ctd = xr.open_dataset('74JC20150110.nc')\n",
    "xr_ctd"
   ]
  },
  {
   "cell_type": "markdown",
   "metadata": {},
   "source": [
    "## Read in our file as a netCDF Dataset"
   ]
  },
  {
   "cell_type": "code",
   "execution_count": 4,
   "metadata": {},
   "outputs": [
    {
     "data": {
      "text/plain": [
       "<class 'netCDF4._netCDF4.Dataset'>\n",
       "root group (NETCDF4 data model, file format HDF5):\n",
       "    title: CTD data\n",
       "    dimensions(sizes): N_profile(30), N_level(2418)\n",
       "    variables(dimensions): int64 \u001b[4mN_profile\u001b[0m(N_profile), <class 'str'> \u001b[4mEXPOCODE\u001b[0m(N_profile), <class 'str'> \u001b[4mSECT_ID\u001b[0m(N_profile), <class 'str'> \u001b[4mSTNNBR\u001b[0m(N_profile), <class 'str'> \u001b[4mCASTNO\u001b[0m(N_profile), <class 'str'> \u001b[4mDATE\u001b[0m(N_profile), <class 'str'> \u001b[4mTIME\u001b[0m(N_profile), float64 \u001b[4mLATITUDE\u001b[0m(N_profile), float64 \u001b[4mLONGITUDE\u001b[0m(N_profile), float64 \u001b[4mDEPTH\u001b[0m(N_profile), int64 \u001b[4mDATETIME\u001b[0m(N_profile), int64 \u001b[4mN_level\u001b[0m(N_level), float64 \u001b[4mCTDPRS\u001b[0m(N_profile,N_level), int8 \u001b[4mCTDPRS_FLAG_W\u001b[0m(N_profile,N_level), float64 \u001b[4mCTDTMP\u001b[0m(N_profile,N_level), int8 \u001b[4mCTDTMP_FLAG_W\u001b[0m(N_profile,N_level), float64 \u001b[4mCTDSAL\u001b[0m(N_profile,N_level), int8 \u001b[4mCTDSAL_FLAG_W\u001b[0m(N_profile,N_level), float64 \u001b[4mCTDOXY\u001b[0m(N_profile,N_level), int8 \u001b[4mCTDOXY_FLAG_W\u001b[0m(N_profile,N_level), float64 \u001b[4mCTDXMISS\u001b[0m(N_profile,N_level), int8 \u001b[4mCTDXMISS_FLAG_W\u001b[0m(N_profile,N_level), float64 \u001b[4mCTDFLUOR\u001b[0m(N_profile,N_level), int8 \u001b[4mCTDFLUOR_FLAG_W\u001b[0m(N_profile,N_level)\n",
       "    groups: "
      ]
     },
     "execution_count": 4,
     "metadata": {},
     "output_type": "execute_result"
    }
   ],
   "source": [
    "xr_nc_ctd = netCDF4.Dataset('74JC20150110.nc', 'r')\n",
    "xr_nc_ctd"
   ]
  },
  {
   "cell_type": "markdown",
   "metadata": {},
   "source": [
    "## Read in WHP NetCDF format for same Cruise (1st profile)"
   ]
  },
  {
   "cell_type": "code",
   "execution_count": 5,
   "metadata": {},
   "outputs": [
    {
     "data": {
      "text/plain": [
       "<class 'netCDF4._netCDF4.Dataset'>\n",
       "root group (NETCDF3_CLASSIC data model, file format NETCDF3):\n",
       "    EXPOCODE: 74JC20150110\n",
       "    Conventions: COARDS/WOCE\n",
       "    WOCE_VERSION: 3.0\n",
       "    WOCE_ID: SR1B\n",
       "    DATA_TYPE: WOCE CTD\n",
       "    STATION_NUMBER: 1\n",
       "    CAST_NUMBER: 1\n",
       "    BOTTOM_DEPTH_METERS: 359\n",
       "    Creation_Time: 2017-01-23T17:58:42.103027Z\n",
       "    ORIGINAL_HEADER: CTD,20170123CCHSIOSEE\n",
       "# Data source: http://cchdo.ucsd.edu/cruise/74JC20150110\n",
       "# LATITUDE_UNITS = degrees_North\n",
       "# LONGITUDE_UNITS = degrees_East\n",
       "# TIME_UNITS = HHMM\n",
       "# DATE_UNITS: YYYYMMDD\n",
       "# As per Y.Firing,  CCHDO changed CTDOXY,CTDXMISS, CTDFLUOR flags from 2 (acceptable measurement) to 1 (not calibrated)\n",
       "# CTD,20170112OCPNOCYLF - Originator Time Stamp \n",
       "#    SHIP: James Clark Ross\n",
       "#    Cruise JR306; SR1B\n",
       "#    Region: Drake Passage; ~56W\n",
       "#    EXPOCODE: 74JC20150110\n",
       "#    DATES: 20150110 - 20150120\n",
       "#    Chief Scientist: B. King, NOCS ; Y. Firing, NOCS\n",
       "#    Supported by NERC National Capability\n",
       "#    30 stations with 24-place rosette\n",
       "#    CTD: Who - Y. Firing; Status - final\n",
       "#    Notes: The CTD PRS;  TMP;  SAL; data are all calibrated and good.\n",
       "#    DEPTH_TYPE   : COR\n",
       "#    These data should be acknowledged with: \"Data were collected and made publicly available by the International Global Ship-based Hydrographic Investigations Program (GO-SHIP; http://www.go-ship.org/) with National Capability funding from the UK Natural Environment Research Council to the National Oceanography Centre.\"\n",
       "\n",
       "    WOCE_CTD_FLAG_DESCRIPTION: ::1 = Not calibrated:2 = Acceptable measurement:3 = Questionable measurement:4 = Bad measurement:5 = Not reported:6 = Interpolated over >2 dbar interval:7 = Despiked:8 = Not assigned for CTD data:9 = Not sampled:\n",
       "\n",
       "    dimensions(sizes): time(1), pressure(176), latitude(1), longitude(1), string_dimension(40)\n",
       "    variables(dimensions): float64 \u001b[4mpressure\u001b[0m(pressure), int16 \u001b[4mpressure_QC\u001b[0m(pressure), float64 \u001b[4mtemperature\u001b[0m(pressure), int16 \u001b[4mtemperature_QC\u001b[0m(pressure), float64 \u001b[4msalinity\u001b[0m(pressure), int16 \u001b[4msalinity_QC\u001b[0m(pressure), float64 \u001b[4moxygen\u001b[0m(pressure), int16 \u001b[4moxygen_QC\u001b[0m(pressure), float64 \u001b[4mCTDXMISS\u001b[0m(pressure), int16 \u001b[4mCTDXMISS_QC\u001b[0m(pressure), float64 \u001b[4mCTDFLUOR\u001b[0m(pressure), int16 \u001b[4mCTDFLUOR_QC\u001b[0m(pressure), int32 \u001b[4mtime\u001b[0m(time), float32 \u001b[4mlatitude\u001b[0m(latitude), float32 \u001b[4mlongitude\u001b[0m(longitude), int32 \u001b[4mwoce_date\u001b[0m(time), int16 \u001b[4mwoce_time\u001b[0m(time), |S1 \u001b[4mstation\u001b[0m(string_dimension), |S1 \u001b[4mcast\u001b[0m(string_dimension)\n",
       "    groups: "
      ]
     },
     "execution_count": 5,
     "metadata": {},
     "output_type": "execute_result"
    }
   ],
   "source": [
    "whp_ctd = netCDF4.Dataset('./74JC20150110_nc_ctd/74JC20150110_00001_00001_ctd.nc', 'r')\n",
    "whp_ctd"
   ]
  },
  {
   "cell_type": "markdown",
   "metadata": {},
   "source": [
    "## Read variables from xarray"
   ]
  },
  {
   "cell_type": "code",
   "execution_count": 6,
   "metadata": {},
   "outputs": [
    {
     "data": {
      "text/plain": [
       "<xarray.DataArray 'STNNBR' (N_profile: 30)>\n",
       "array(['1', '2', '3', '4', '5', '6', '7', '8', '9', '10', '11', '12', '13',\n",
       "       '14', '15', '16', '17', '18', '19', '20', '21', '22', '23', '24', '25',\n",
       "       '26', '27', '28', '29', '30'], dtype=object)\n",
       "Coordinates:\n",
       "  * N_profile  (N_profile) int64 0 1 2 3 4 5 6 7 8 9 10 11 12 13 14 15 16 17 ...\n",
       "Attributes:\n",
       "    units:      number\n",
       "    long_name:  StationNumber"
      ]
     },
     "execution_count": 6,
     "metadata": {},
     "output_type": "execute_result"
    }
   ],
   "source": [
    "stnbr = xr_ctd['STNNBR']\n",
    "stnbr"
   ]
  },
  {
   "cell_type": "code",
   "execution_count": 7,
   "metadata": {},
   "outputs": [
    {
     "data": {
      "text/plain": [
       "<xarray.DataArray 'CTDPRS' (N_profile: 30, N_level: 2418)>\n",
       "array([[ 3.,  5.,  7., ..., nan, nan, nan],\n",
       "       [ 3.,  5.,  7., ..., nan, nan, nan],\n",
       "       [ 3.,  5.,  7., ..., nan, nan, nan],\n",
       "       ...,\n",
       "       [ 5.,  7.,  9., ..., nan, nan, nan],\n",
       "       [ 7.,  9., 11., ..., nan, nan, nan],\n",
       "       [ 7.,  9., 11., ..., nan, nan, nan]])\n",
       "Coordinates:\n",
       "  * N_profile  (N_profile) int64 0 1 2 3 4 5 6 7 8 9 10 11 12 13 14 15 16 17 ...\n",
       "  * N_level    (N_level) int64 0 1 2 3 4 5 6 7 8 9 10 11 12 13 14 15 16 17 ...\n",
       "Attributes:\n",
       "    units:    DBAR"
      ]
     },
     "execution_count": 7,
     "metadata": {},
     "output_type": "execute_result"
    }
   ],
   "source": [
    "xr_pressure = xr_ctd['CTDPRS']\n",
    "xr_pressure"
   ]
  },
  {
   "cell_type": "markdown",
   "metadata": {},
   "source": [
    "### Read in first profile"
   ]
  },
  {
   "cell_type": "code",
   "execution_count": 8,
   "metadata": {
    "scrolled": true
   },
   "outputs": [
    {
     "data": {
      "text/plain": [
       "<xarray.DataArray 'CTDPRS' (N_level: 2418)>\n",
       "array([ 3.,  5.,  7., ..., nan, nan, nan])\n",
       "Coordinates:\n",
       "    N_profile  int64 0\n",
       "  * N_level    (N_level) int64 0 1 2 3 4 5 6 7 8 9 10 11 12 13 14 15 16 17 ...\n",
       "Attributes:\n",
       "    units:    DBAR"
      ]
     },
     "execution_count": 8,
     "metadata": {},
     "output_type": "execute_result"
    }
   ],
   "source": [
    "xr_ctd_profile_1 = xr_ctd['CTDPRS'].sel(N_profile = 0)\n",
    "xr_ctd_profile_1"
   ]
  },
  {
   "cell_type": "markdown",
   "metadata": {},
   "source": [
    "## Read variables from xarray netCDF"
   ]
  },
  {
   "cell_type": "code",
   "execution_count": 9,
   "metadata": {
    "scrolled": true
   },
   "outputs": [
    {
     "data": {
      "text/plain": [
       "<class 'netCDF4._netCDF4.Variable'>\n",
       "float64 CTDPRS(N_profile, N_level)\n",
       "    _FillValue: nan\n",
       "    units: DBAR\n",
       "unlimited dimensions: \n",
       "current shape = (30, 2418)\n",
       "filling on"
      ]
     },
     "execution_count": 9,
     "metadata": {},
     "output_type": "execute_result"
    }
   ],
   "source": [
    "xr_nc_ctd_pressure = xr_nc_ctd.variables['CTDPRS']  \n",
    "xr_nc_ctd_pressure"
   ]
  },
  {
   "cell_type": "markdown",
   "metadata": {},
   "source": [
    "### Read in first profile"
   ]
  },
  {
   "cell_type": "code",
   "execution_count": 10,
   "metadata": {},
   "outputs": [
    {
     "data": {
      "text/plain": [
       "masked_array(data=[3.0, 5.0, 7.0, ..., --, --, --],\n",
       "             mask=[False, False, False, ...,  True,  True,  True],\n",
       "       fill_value=nan)"
      ]
     },
     "execution_count": 10,
     "metadata": {},
     "output_type": "execute_result"
    }
   ],
   "source": [
    "xr_nc_ctd_pressure[0]"
   ]
  },
  {
   "cell_type": "markdown",
   "metadata": {},
   "source": [
    "## Read variables from WHP netCDF"
   ]
  },
  {
   "cell_type": "code",
   "execution_count": 11,
   "metadata": {},
   "outputs": [
    {
     "data": {
      "text/plain": [
       "<class 'netCDF4._netCDF4.Variable'>\n",
       "float64 pressure(pressure)\n",
       "    long_name: pressure\n",
       "    positive: down\n",
       "    units: decibar\n",
       "    data_min: 3.0\n",
       "    data_max: 353.0\n",
       "    C_format: %8.1f\n",
       "    WHPO_Variable_Name: CTDPRS\n",
       "    OBS_QC_VARIABLE: pressure_QC\n",
       "unlimited dimensions: \n",
       "current shape = (176,)\n",
       "filling on, default _FillValue of 9.969209968386869e+36 used"
      ]
     },
     "execution_count": 11,
     "metadata": {},
     "output_type": "execute_result"
    }
   ],
   "source": [
    "whp_pressure = whp_ctd.variables['pressure']  \n",
    "whp_pressure"
   ]
  },
  {
   "cell_type": "markdown",
   "metadata": {},
   "source": [
    "## Plot variables from xarray as profiles vs levels"
   ]
  },
  {
   "cell_type": "code",
   "execution_count": 12,
   "metadata": {},
   "outputs": [
    {
     "data": {
      "text/plain": [
       "<matplotlib.collections.QuadMesh at 0x1213db668>"
      ]
     },
     "execution_count": 12,
     "metadata": {},
     "output_type": "execute_result"
    },
    {
     "data": {
      "image/png": "[encoded data removed]",
      "text/plain": [
       "<Figure size 432x288 with 2 Axes>"
      ]
     },
     "metadata": {},
     "output_type": "display_data"
    }
   ],
   "source": [
    "xr_ctd['CTDSAL'].plot()"
   ]
  },
  {
   "cell_type": "code",
   "execution_count": 13,
   "metadata": {
    "scrolled": true
   },
   "outputs": [
    {
     "data": {
      "text/plain": [
       "[<matplotlib.lines.Line2D at 0x121a2a710>]"
      ]
     },
     "execution_count": 13,
     "metadata": {},
     "output_type": "execute_result"
    },
    {
     "data": {
      "image/png": "[encoded data removed]",
      "text/plain": [
       "<Figure size 432x288 with 1 Axes>"
      ]
     },
     "metadata": {},
     "output_type": "display_data"
    }
   ],
   "source": [
    "xr_ctd['CTDSAL'].sel(N_profile = 0).plot()"
   ]
  },
  {
   "cell_type": "code",
   "execution_count": 14,
   "metadata": {},
   "outputs": [],
   "source": [
    "xr_salinity = xr_ctd['CTDSAL'].sel(N_profile = 0)\n",
    "xr_pressure = xr_ctd['CTDPRS'].sel(N_profile = 0)"
   ]
  },
  {
   "cell_type": "markdown",
   "metadata": {},
   "source": [
    "### Plot as salinity vs pressure"
   ]
  },
  {
   "cell_type": "code",
   "execution_count": 15,
   "metadata": {},
   "outputs": [
    {
     "data": {
      "text/plain": [
       "[Text(0,0.5,'Salinity'), Text(0.5,0,'Pressure'), Text(0.5,1,'N_profile = 0')]"
      ]
     },
     "execution_count": 15,
     "metadata": {},
     "output_type": "execute_result"
    },
    {
     "data": {
      "image/png": "[encoded data removed]",
      "text/plain": [
       "<Figure size 432x288 with 1 Axes>"
      ]
     },
     "metadata": {},
     "output_type": "display_data"
    }
   ],
   "source": [
    "fig, ax = plt.subplots()\n",
    "ax.plot(xr_pressure, xr_salinity)\n",
    "ax.set(xlabel='Pressure', ylabel='Salinity',\n",
    "       title='N_profile = 0')"
   ]
  },
  {
   "cell_type": "markdown",
   "metadata": {},
   "source": [
    "## Plot variables from WHP netCDF"
   ]
  },
  {
   "cell_type": "code",
   "execution_count": 16,
   "metadata": {},
   "outputs": [],
   "source": [
    "whp_pressure = whp_ctd.variables['pressure']\n",
    "whp_salinity = whp_ctd.variables['salinity']"
   ]
  },
  {
   "cell_type": "code",
   "execution_count": 17,
   "metadata": {},
   "outputs": [
    {
     "data": {
      "text/plain": [
       "[Text(0,0.5,'Salinity'), Text(0.5,0,'Pressure'), Text(0.5,1,'N_profile = 0')]"
      ]
     },
     "execution_count": 17,
     "metadata": {},
     "output_type": "execute_result"
    },
    {
     "data": {
      "image/png": "[encoded data removed]",
      "text/plain": [
       "<Figure size 432x288 with 1 Axes>"
      ]
     },
     "metadata": {},
     "output_type": "display_data"
    }
   ],
   "source": [
    "fig, ax = plt.subplots()\n",
    "ax.plot(whp_pressure, whp_salinity)\n",
    "ax.set(xlabel='Pressure', ylabel='Salinity',\n",
    "       title='N_profile = 0')"
   ]
  },
  {
   "cell_type": "code",
   "execution_count": null,
   "metadata": {},
   "outputs": [],
   "source": []
  },
  {
   "cell_type": "code",
   "execution_count": null,
   "metadata": {},
   "outputs": [],
   "source": []
  },
  {
   "cell_type": "code",
   "execution_count": null,
   "metadata": {},
   "outputs": [],
   "source": []
  }
 ],
 "metadata": {
  "kernelspec": {
   "display_name": "Python 3",
   "language": "python",
   "name": "python3"
  },
  "language_info": {
   "codemirror_mode": {
    "name": "ipython",
    "version": 3
   },
   "file_extension": ".py",
   "mimetype": "text/x-python",
   "name": "python",
   "nbconvert_exporter": "python",
   "pygments_lexer": "ipython3",
   "version": "3.6.6"
  }
 },
 "nbformat": 4,
 "nbformat_minor": 2
}
